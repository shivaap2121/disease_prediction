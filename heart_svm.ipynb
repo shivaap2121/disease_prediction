{
 "cells": [
  {
   "cell_type": "code",
   "execution_count": 1,
   "metadata": {},
   "outputs": [],
   "source": [
    "import numpy as np\n",
    "import pandas as pd\n",
    "from sklearn.model_selection import train_test_split\n",
    "from sklearn.preprocessing import StandardScaler\n",
    "from sklearn.svm import SVC\n",
    "from sklearn.metrics import accuracy_score, classification_report, confusion_matrix"
   ]
  },
  {
   "cell_type": "code",
   "execution_count": 2,
   "metadata": {},
   "outputs": [],
   "source": [
    "# Load dataset\n",
    "df = pd.read_csv('dataset/heart.csv')\n",
    "\n",
    "X = df.drop(columns= 'target', axis = 1)\n",
    "Y = df['target']"
   ]
  },
  {
   "cell_type": "code",
   "execution_count": 3,
   "metadata": {},
   "outputs": [],
   "source": [
    "from imblearn.under_sampling import TomekLinks\n",
    "\n",
    "tl = TomekLinks()\n",
    "X, Y = tl.fit_resample(X, Y)  \n"
   ]
  },
  {
   "cell_type": "code",
   "execution_count": 4,
   "metadata": {},
   "outputs": [],
   "source": [
    "X_train, X_test, y_train, y_test = train_test_split(\n",
    "    X, Y, test_size=0.2, random_state=42, stratify=Y\n",
    ")\n"
   ]
  },
  {
   "cell_type": "code",
   "execution_count": 5,
   "metadata": {},
   "outputs": [],
   "source": [
    "scaler = StandardScaler()\n",
    "X_train = scaler.fit_transform(X_train)\n",
    "X_test = scaler.transform(X_test)"
   ]
  },
  {
   "cell_type": "code",
   "execution_count": 6,
   "metadata": {},
   "outputs": [
    {
     "name": "stdout",
     "output_type": "stream",
     "text": [
      "\n",
      "SVM Accuracy: 0.8000\n",
      "\n",
      "Confusion Matrix:\n",
      " [[23  5]\n",
      " [ 6 21]]\n",
      "\n",
      "Classification Report:\n",
      "               precision    recall  f1-score   support\n",
      "\n",
      "           0       0.79      0.82      0.81        28\n",
      "           1       0.81      0.78      0.79        27\n",
      "\n",
      "    accuracy                           0.80        55\n",
      "   macro avg       0.80      0.80      0.80        55\n",
      "weighted avg       0.80      0.80      0.80        55\n",
      "\n"
     ]
    }
   ],
   "source": [
    "model = SVC(kernel=\"linear\", C=1, random_state=42)\n",
    "model.fit(X_train, y_train)\n",
    "y_pred = model.predict(X_test)\n",
    "accuracy = accuracy_score(y_test, y_pred)\n",
    "conf_matrix = confusion_matrix(y_test, y_pred)\n",
    "class_report = classification_report(y_test, y_pred, output_dict=True)\n",
    "\n",
    "results = {\n",
    "    \"SVM\": {\n",
    "        \"Accuracy\": accuracy,\n",
    "        \"Confusion Matrix\": conf_matrix,\n",
    "        \"Classification Report\": class_report\n",
    "    }\n",
    "}\n",
    "\n",
    "print(f\"\\nSVM Accuracy: {accuracy:.4f}\")\n",
    "print(\"\\nConfusion Matrix:\\n\", conf_matrix)\n",
    "print(\"\\nClassification Report:\\n\", classification_report(y_test, y_pred))"
   ]
  },
  {
   "cell_type": "code",
   "execution_count": 7,
   "metadata": {},
   "outputs": [],
   "source": [
    "import pickle\n",
    "filename = 'heart_disease_model.sav'\n",
    "pickle.dump(model, open(filename , 'wb'))"
   ]
  },
  {
   "cell_type": "code",
   "execution_count": 8,
   "metadata": {},
   "outputs": [
    {
     "name": "stdout",
     "output_type": "stream",
     "text": [
      "[1]\n",
      "The person has a Heart disease\n"
     ]
    }
   ],
   "source": [
    "loaded_model = pickle.load(open('heart_disease_model.sav', 'rb'))\n",
    "input_data = (62,0,0,140,268,0,0,160,0,3.6,0,2,2)\n",
    "input_data_as_numpy_array = np.asarray(input_data)\n",
    "input_data_reshape = input_data_as_numpy_array.reshape(1,-1)\n",
    "prediction = loaded_model.predict(input_data_reshape)\n",
    "print(prediction)\n",
    "if(prediction[0] == 0):\n",
    "    print(\"The person does not have a Heart disease\")\n",
    "else:\n",
    "    print(\"The person has a Heart disease\")"
   ]
  }
 ],
 "metadata": {
  "kernelspec": {
   "display_name": "Python 3",
   "language": "python",
   "name": "python3"
  },
  "language_info": {
   "codemirror_mode": {
    "name": "ipython",
    "version": 3
   },
   "file_extension": ".py",
   "mimetype": "text/x-python",
   "name": "python",
   "nbconvert_exporter": "python",
   "pygments_lexer": "ipython3",
   "version": "3.10.16"
  }
 },
 "nbformat": 4,
 "nbformat_minor": 2
}
