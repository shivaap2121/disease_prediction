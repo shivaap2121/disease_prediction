{
 "cells": [
  {
   "cell_type": "code",
   "execution_count": 1,
   "metadata": {},
   "outputs": [],
   "source": [
    "import numpy as np\n",
    "import pandas as pd\n",
    "from sklearn.model_selection import train_test_split\n",
    "from sklearn.preprocessing import StandardScaler\n",
    "from sklearn.svm import SVC\n",
    "from sklearn.ensemble import RandomForestClassifier\n",
    "from sklearn.tree import DecisionTreeClassifier\n",
    "from sklearn.linear_model import LogisticRegression\n",
    "from sklearn.metrics import accuracy_score, classification_report, confusion_matrix"
   ]
  },
  {
   "cell_type": "code",
   "execution_count": 2,
   "metadata": {},
   "outputs": [
    {
     "name": "stdout",
     "output_type": "stream",
     "text": [
      "Class distribution:\n",
      " target\n",
      "1    165\n",
      "0    138\n",
      "Name: count, dtype: int64\n"
     ]
    }
   ],
   "source": [
    "# Load dataset\n",
    "df = pd.read_csv('dataset/heart.csv')\n",
    "\n",
    "X = df.drop(columns= 'target', axis = 1)\n",
    "Y = df['target']\n",
    "\n",
    "# Check class distribution\n",
    "print(\"Class distribution:\\n\", Y.value_counts())\n"
   ]
  },
  {
   "cell_type": "code",
   "execution_count": 3,
   "metadata": {},
   "outputs": [],
   "source": [
    "from imblearn.under_sampling import TomekLinks\n",
    "\n",
    "tl = TomekLinks()\n",
    "X, Y = tl.fit_resample(X, Y)  # Apply Tomek Links undersampling\n"
   ]
  },
  {
   "cell_type": "code",
   "execution_count": 4,
   "metadata": {},
   "outputs": [],
   "source": [
    "# Split into 80% training and 20% testing, ensuring same class proportions\n",
    "X_train, X_test, y_train, y_test = train_test_split(\n",
    "    X, Y, test_size=0.2, random_state=42, stratify=Y\n",
    ")\n"
   ]
  },
  {
   "cell_type": "code",
   "execution_count": 5,
   "metadata": {},
   "outputs": [],
   "source": [
    "scaler = StandardScaler()\n",
    "X_train = scaler.fit_transform(X_train)\n",
    "X_test = scaler.transform(X_test)\n"
   ]
  },
  {
   "cell_type": "code",
   "execution_count": 6,
   "metadata": {},
   "outputs": [
    {
     "name": "stdout",
     "output_type": "stream",
     "text": [
      "\n",
      "Training SVM...\n",
      "SVM Accuracy: 0.8000\n",
      "Confusion Matrix:\n",
      " [[23  5]\n",
      " [ 6 21]]\n",
      "\n",
      "Training Random Forest...\n",
      "Random Forest Accuracy: 0.7636\n",
      "Confusion Matrix:\n",
      " [[22  6]\n",
      " [ 7 20]]\n",
      "\n",
      "Training Decision Tree...\n",
      "Decision Tree Accuracy: 0.7091\n",
      "Confusion Matrix:\n",
      " [[21  7]\n",
      " [ 9 18]]\n",
      "\n",
      "Training Logistic Regression...\n",
      "Logistic Regression Accuracy: 0.8000\n",
      "Confusion Matrix:\n",
      " [[23  5]\n",
      " [ 6 21]]\n"
     ]
    }
   ],
   "source": [
    "# Define models\n",
    "models = {\n",
    "    \"SVM\": SVC(kernel=\"linear\", C=1, random_state=42),\n",
    "    \"Random Forest\": RandomForestClassifier(n_estimators=100, random_state=42),\n",
    "    \"Decision Tree\": DecisionTreeClassifier(random_state=42),\n",
    "    \"Logistic Regression\": LogisticRegression(max_iter=1000, random_state=42)\n",
    "}\n",
    "\n",
    "# Dictionary to store results\n",
    "results = {}\n",
    "\n",
    "# Train and Evaluate each model\n",
    "for name, model in models.items():\n",
    "    print(f\"\\nTraining {name}...\")\n",
    "    \n",
    "    # Train model\n",
    "    model.fit(X_train, y_train)\n",
    "    \n",
    "    # Make predictions\n",
    "    y_pred = model.predict(X_test)\n",
    "    \n",
    "    # Calculate accuracy and confusion matrix\n",
    "    acc = accuracy_score(y_test, y_pred)\n",
    "    conf_matrix = confusion_matrix(y_test, y_pred)\n",
    "    \n",
    "    # Store results\n",
    "    results[name] = {\n",
    "        \"Accuracy\": acc,\n",
    "        \"Confusion Matrix\": conf_matrix,\n",
    "        \"Classification Report\": classification_report(y_test, y_pred, output_dict=True)\n",
    "    }\n",
    "    \n",
    "    # Print model results\n",
    "    print(f\"{name} Accuracy: {acc:.4f}\")\n",
    "    print(\"Confusion Matrix:\\n\", conf_matrix)\n",
    "\n"
   ]
  },
  {
   "cell_type": "code",
   "execution_count": 7,
   "metadata": {},
   "outputs": [
    {
     "name": "stdout",
     "output_type": "stream",
     "text": [
      "\n",
      "🚀 Best Model: SVM\n",
      "✅ Highest Accuracy: 0.8000\n",
      "\n",
      "🔹 Confusion Matrix:\n",
      "[[23  5]\n",
      " [ 6 21]]\n",
      "\n",
      "🔹 Classification Report:\n",
      "              precision    recall  f1-score  support\n",
      "0              0.793103  0.821429  0.807018     28.0\n",
      "1              0.807692  0.777778  0.792453     27.0\n",
      "accuracy       0.800000  0.800000  0.800000      0.8\n",
      "macro avg      0.800398  0.799603  0.799735     55.0\n",
      "weighted avg   0.800265  0.800000  0.799868     55.0\n"
     ]
    }
   ],
   "source": [
    "# Identify the model with the highest accuracy\n",
    "best_model = max(results, key=lambda x: results[x][\"Accuracy\"])\n",
    "best_accuracy = results[best_model][\"Accuracy\"]\n",
    "\n",
    "# Print the best model details\n",
    "print(f\"\\n🚀 Best Model: {best_model}\")\n",
    "print(f\"✅ Highest Accuracy: {best_accuracy:.4f}\")\n",
    "print(f\"\\n🔹 Confusion Matrix:\\n{results[best_model]['Confusion Matrix']}\")\n",
    "print(\"\\n🔹 Classification Report:\")\n",
    "print(pd.DataFrame(results[best_model]['Classification Report']).transpose())\n"
   ]
  }
 ],
 "metadata": {
  "kernelspec": {
   "display_name": "base",
   "language": "python",
   "name": "python3"
  },
  "language_info": {
   "codemirror_mode": {
    "name": "ipython",
    "version": 3
   },
   "file_extension": ".py",
   "mimetype": "text/x-python",
   "name": "python",
   "nbconvert_exporter": "python",
   "pygments_lexer": "ipython3",
   "version": "3.12.7"
  }
 },
 "nbformat": 4,
 "nbformat_minor": 2
}
